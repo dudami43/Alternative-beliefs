{
 "cells": [
  {
   "cell_type": "code",
   "execution_count": 1,
   "metadata": {},
   "outputs": [],
   "source": [
    "from scipy import stats\n",
    "from scipy.stats import norm\n",
    "from statsmodels.distributions.empirical_distribution import ECDF\n",
    "import numpy as np\n",
    "import pandas as pd\n",
    "import seaborn as sns\n",
    "import matplotlib.pyplot as plt\n",
    "import glob\n",
    "import json"
   ]
  },
  {
   "cell_type": "code",
   "execution_count": 2,
   "metadata": {},
   "outputs": [],
   "source": [
    "files = glob.glob(\"dados/*.json\")"
   ]
  },
  {
   "cell_type": "markdown",
   "metadata": {},
   "source": [
    "- Número total de Tweets"
   ]
  },
  {
   "cell_type": "code",
   "execution_count": 3,
   "metadata": {},
   "outputs": [],
   "source": [
    "size = 0\n",
    "for each in files:\n",
    "    with open(each, 'r', encoding=\"utf8\") as f:\n",
    "        data = json.load(f)\n",
    "        size += len(data)"
   ]
  },
  {
   "cell_type": "markdown",
   "metadata": {},
   "source": [
    "- Distribuição do tamanho das florestas. Cada Tweet gera uma floresta.\n",
    "Gerar o gráfico da CDF dos tamanhos das florestas de cada Tweet;"
   ]
  },
  {
   "cell_type": "code",
   "execution_count": 3,
   "metadata": {},
   "outputs": [],
   "source": [
    "size_forests = dict()\n",
    "for filename in files:\n",
    "    fa = filename.split(\"_\")\n",
    "    fa = fa[1].split(\".\")\n",
    "    with open(filename, 'r', encoding=\"utf8\") as f:\n",
    "        try:\n",
    "            size_forests[fa[0]] += len(json.load(f))\n",
    "        except:\n",
    "            size_forests[fa[0]] = len(json.load(f))\n",
    "                "
   ]
  },
  {
   "cell_type": "code",
   "execution_count": 4,
   "metadata": {},
   "outputs": [],
   "source": [
    "np_forests = np.array(tuple(size_forests.values()))"
   ]
  },
  {
   "cell_type": "code",
   "execution_count": 5,
   "metadata": {},
   "outputs": [],
   "source": [
    "ecdf = ECDF(np_forests)"
   ]
  },
  {
   "cell_type": "code",
   "execution_count": 8,
   "metadata": {},
   "outputs": [],
   "source": [
    "parameters = np.full(len(np_forests), 1000)"
   ]
  },
  {
   "cell_type": "code",
   "execution_count": 10,
   "metadata": {},
   "outputs": [
    {
     "data": {
      "text/plain": [
       "[<matplotlib.lines.Line2D at 0x28132b0f630>]"
      ]
     },
     "execution_count": 10,
     "metadata": {},
     "output_type": "execute_result"
    },
    {
     "data": {
      "image/png": "[encoded data removed]",
      "text/plain": [
       "<Figure size 432x288 with 1 Axes>"
      ]
     },
     "metadata": {
      "needs_background": "light"
     },
     "output_type": "display_data"
    }
   ],
   "source": [
    "plt.plot(ecdf.x, ecdf.y)"
   ]
  },
  {
   "cell_type": "code",
   "execution_count": null,
   "metadata": {},
   "outputs": [],
   "source": [
    "plt"
   ]
  },
  {
   "cell_type": "markdown",
   "metadata": {},
   "source": [
    "- Para cada árvore principal (respostas e replies diretas ao Tweet),\n",
    "gerar a distribuição do tamanho, altura e \"largura\" (pensar em formas\n",
    "de descrever as árvores com números.)"
   ]
  },
  {
   "cell_type": "markdown",
   "metadata": {},
   "source": [
    "- Para cada árvore secundária (arvores das citações) fazer o mesmo do\n",
    "item acima."
   ]
  },
  {
   "cell_type": "markdown",
   "metadata": {},
   "source": [
    "- Para cada interação com um tweet, calcular o tempo entre a interação\n",
    "e o pai imediatamente acima (resposta e tweet respondido). Fazer uma\n",
    "distribuição desses valores de tempos de resposta."
   ]
  },
  {
   "cell_type": "code",
   "execution_count": 17,
   "metadata": {},
   "outputs": [],
   "source": [
    "for filename in files:\n",
    "    with open(filename, 'r', encoding=\"utf8\") as f:    \n",
    "        data = json.load(f)\n",
    "        for item in data:\n",
    "            replie_to = data[item]['replie_to']\n",
    "            if(replie_to is not None):\n",
    "                data[item]['response_time'] = data[item]['created_at'] - data[replie_to]['created_at']\n",
    "            else:\n",
    "                data[item]['response_time'] = 0.0\n",
    "    with open(filename, 'w', encoding=\"utf8\") as f:\n",
    "        f.write(json.dumps(data, ensure_ascii=False))"
   ]
  },
  {
   "cell_type": "markdown",
   "metadata": {},
   "source": [
    "- Número de usuários diferentes em cada árvore (fazer para a árvore\n",
    "principal e para as secundárias)."
   ]
  },
  {
   "cell_type": "code",
   "execution_count": 35,
   "metadata": {},
   "outputs": [],
   "source": [
    "tree_users = dict()\n",
    "for filename in files:\n",
    "    fa = filename[14:len(filename) - 5]\n",
    "    different_users = dict()\n",
    "    with open(filename, 'r', encoding=\"utf8\") as f:   \n",
    "        data = json.load(f)\n",
    "        for item in data:\n",
    "            try:\n",
    "                different_users[data[item]['user_id']] += 1\n",
    "            except:\n",
    "                different_users[data[item]['user_id']] = 1\n",
    "            tree_users[fa] = len(different_users)"
   ]
  }
 ],
 "metadata": {
  "kernelspec": {
   "display_name": "Python 3",
   "language": "python",
   "name": "python3"
  },
  "language_info": {
   "codemirror_mode": {
    "name": "ipython",
    "version": 3
   },
   "file_extension": ".py",
   "mimetype": "text/x-python",
   "name": "python",
   "nbconvert_exporter": "python",
   "pygments_lexer": "ipython3",
   "version": "3.7.3"
  }
 },
 "nbformat": 4,
 "nbformat_minor": 2
}
