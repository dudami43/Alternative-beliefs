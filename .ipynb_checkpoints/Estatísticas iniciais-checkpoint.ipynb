{
 "cells": [
  {
   "cell_type": "code",
   "execution_count": 48,
   "metadata": {},
   "outputs": [],
   "source": [
    "from scipy import stats\n",
    "from scipy.stats import norm\n",
    "from statsmodels.distributions.empirical_distribution import ECDF\n",
    "import numpy as np\n",
    "import pandas as pd\n",
    "import seaborn as sns\n",
    "import matplotlib.pyplot as plt\n",
    "import glob\n",
    "import json\n",
    "import networkx as nx"
   ]
  },
  {
   "cell_type": "code",
   "execution_count": 49,
   "metadata": {},
   "outputs": [],
   "source": [
    "files = glob.glob(\"dados/*.json\")"
   ]
  },
  {
   "cell_type": "markdown",
   "metadata": {},
   "source": [
    "- Funções:"
   ]
  },
  {
   "cell_type": "code",
   "execution_count": 3,
   "metadata": {},
   "outputs": [],
   "source": [
    "def height(list_adj, node):\n",
    "    if(len(list_adj[node]) == 0):\n",
    "        return 1\n",
    "    else:\n",
    "        aux = list()\n",
    "        for i in list_adj[node]:\n",
    "            aux.append(height(list_adj, i))\n",
    "        return max(aux) + 1"
   ]
  },
  {
   "cell_type": "code",
   "execution_count": 110,
   "metadata": {},
   "outputs": [],
   "source": [
    "def sub_trees(tweet):\n",
    "    aux_heights = dict()\n",
    "    for first_replie in tweet:\n",
    "        try:\n",
    "            aux_heights[tweet[first_replie]] += 1\n",
    "        except:\n",
    "            aux_heights[tweet[first_replie]] = 1\n",
    "            \n",
    "        #keys: altura da subarvore\n",
    "        #values: úmero de árvores com a dada altura\n",
    "        \n",
    "    plt.bar(aux_heights.values(), aux_heights.keys(), align='center', alpha=0.5)\n",
    "    plt.xlabel('Número de subarvores com a altura y')\n",
    "    plt.ylabel('Altura da subarvore')\n",
    "    plt.title('Distribuição das alturas das subárvores do tweet')\n",
    "    plt.xticks(range(0,max(aux_heights.values()) + 1, 20))\n",
    "    plt.show()"
   ]
  },
  {
   "cell_type": "code",
   "execution_count": 80,
   "metadata": {},
   "outputs": [],
   "source": [
    "def depth(file, leaf):\n",
    "    depth = 0;\n",
    "    up = leaf;\n",
    "    while(graphs[file].nodes[up]['replie_to'] is not None): \n",
    "        up = graphs[file].nodes[up]['replie_to']\n",
    "        depth += 1\n",
    "    return depth"
   ]
  },
  {
   "cell_type": "markdown",
   "metadata": {},
   "source": [
    "- Criando um grafo como estrutura de dados (lista de adjacências de um nó é composta pelos nós a que ele responde):"
   ]
  },
  {
   "cell_type": "code",
   "execution_count": 50,
   "metadata": {},
   "outputs": [],
   "source": [
    "graphs = dict()\n",
    "for filename in files:\n",
    "    DG = nx.DiGraph()\n",
    "    with open(filename, 'r', encoding=\"utf8\") as f: \n",
    "        data = json.load(f)\n",
    "        for tweet in data:\n",
    "            DG.add_node(tweet)\n",
    "            if(data[tweet]['replie_to'] is not None):\n",
    "                DG.add_node(data[tweet]['replie_to'])\n",
    "                DG.add_edge(tweet,data[tweet]['replie_to'])\n",
    "            for attr in data[tweet]:\n",
    "                DG.node[tweet][attr] = data[tweet][attr]\n",
    "    graphs[filename] = DG"
   ]
  },
  {
   "cell_type": "markdown",
   "metadata": {},
   "source": [
    "- Lista de adjacências do sentido oposto (lista de adjacências de um nó é composta pelos nós que respondem a ele):"
   ]
  },
  {
   "cell_type": "code",
   "execution_count": 51,
   "metadata": {},
   "outputs": [],
   "source": [
    "opp_adjacency = dict()\n",
    "for each in graphs:\n",
    "    list_adj = dict()\n",
    "    for item in graphs[each]:\n",
    "        try:\n",
    "            list_adj[item]\n",
    "        except:\n",
    "            list_adj[item] = list()\n",
    "        if (graphs[each].nodes[item]['replie_to'] is not None):\n",
    "            try:\n",
    "                list_adj[graphs[each].nodes[item]['replie_to']].append(item)\n",
    "            except:\n",
    "                list_adj[graphs[each].nodes[item]['replie_to']] = list()\n",
    "                list_adj[graphs[each].nodes[item]['replie_to']].append(item)\n",
    "    opp_adjacency[each] = list_adj "
   ]
  },
  {
   "cell_type": "markdown",
   "metadata": {},
   "source": [
    "- Número total de Tweets:"
   ]
  },
  {
   "cell_type": "code",
   "execution_count": 41,
   "metadata": {},
   "outputs": [
    {
     "data": {
      "text/plain": [
       "48413"
      ]
     },
     "execution_count": 41,
     "metadata": {},
     "output_type": "execute_result"
    }
   ],
   "source": [
    "size = 0\n",
    "for each in graphs:\n",
    "    size += len(graphs[each])\n",
    "size"
   ]
  },
  {
   "cell_type": "markdown",
   "metadata": {},
   "source": [
    "- Distribuição do tamanho das florestas:"
   ]
  },
  {
   "cell_type": "code",
   "execution_count": 42,
   "metadata": {},
   "outputs": [],
   "source": [
    "size_forests = dict()\n",
    "for each in graphs:\n",
    "    fa = each.split(\"_\")\n",
    "    fa = fa[1].split(\".\")\n",
    "    try:\n",
    "        size_forests[fa[0]] += len(graphs[each])\n",
    "    except:\n",
    "        size_forests[fa[0]] = len(graphs[each])"
   ]
  },
  {
   "cell_type": "code",
   "execution_count": 43,
   "metadata": {},
   "outputs": [],
   "source": [
    "np_forests = np.array(tuple(size_forests.values()))"
   ]
  },
  {
   "cell_type": "code",
   "execution_count": 44,
   "metadata": {},
   "outputs": [],
   "source": [
    "ecdf = ECDF(np_forests)"
   ]
  },
  {
   "cell_type": "code",
   "execution_count": 45,
   "metadata": {},
   "outputs": [
    {
     "data": {
      "image/png": "[encoded data removed]",
      "text/plain": [
       "<Figure size 432x288 with 1 Axes>"
      ]
     },
     "metadata": {
      "needs_background": "light"
     },
     "output_type": "display_data"
    }
   ],
   "source": [
    "_= plt.plot(ecdf.x, ecdf.y)\n",
    "_= plt.xlabel(\"Tamanho das florestas\")\n",
    "_= plt.ylabel(\"Probabilidade cumulativa\")"
   ]
  },
  {
   "cell_type": "markdown",
   "metadata": {},
   "source": [
    "- Cálculo de dimensões:"
   ]
  },
  {
   "cell_type": "code",
   "execution_count": 82,
   "metadata": {},
   "outputs": [],
   "source": [
    "#Altura de cada árvore\n",
    "main_height = dict()\n",
    "sec_height = dict()\n",
    "for each in graphs:\n",
    "    fa = each.split(\"_\")\n",
    "    node = fa[len(fa)-1].split(\".\")\n",
    "    if(len(fa) == 2):\n",
    "        main_height[each] = height(opp_adjacency[each], node[0])\n",
    "    else:\n",
    "        sec_height[each] = height(opp_adjacency[each], node[0])"
   ]
  },
  {
   "cell_type": "code",
   "execution_count": 87,
   "metadata": {},
   "outputs": [],
   "source": [
    "#Altura das primeiras respostas\n",
    "main_sub = dict()\n",
    "sec_sub = dict()\n",
    "for each in graphs:\n",
    "    fa = each.split(\"_\")\n",
    "    node = fa[len(fa)-1].split(\".\")\n",
    "    sub_aux = dict()\n",
    "    for item in graphs[each]:\n",
    "        if (graphs[each].nodes[item]['replie_to'] == node[0]):\n",
    "            sub_aux[item] = height(opp_adjacency[each], item)\n",
    "    if(len(fa) == 2):\n",
    "        main_sub[each] = sub_aux\n",
    "    else:\n",
    "        sec_sub[each] = sub_aux"
   ]
  },
  {
   "cell_type": "code",
   "execution_count": 43,
   "metadata": {},
   "outputs": [],
   "source": [
    "#Fator de ramificação de cada árvore\n",
    "main_branch = dict()\n",
    "sec_branch = dict()\n",
    "for each in graphs:\n",
    "    fa = each.split(\"_\")\n",
    "    branching_factor = dict()\n",
    "    for item in graphs[each]:\n",
    "        if(graphs[each].nodes[item]['replie_to'] is not None):\n",
    "            try:\n",
    "                branching_factor[graphs[each].nodes[item]['replie_to']] = branching_factor[graphs[each].nodes[item]['replie_to']] + 1\n",
    "            except:\n",
    "                branching_factor[graphs[each].nodes[item]['replie_to']] = 1\n",
    "    if(len(fa) == 2):\n",
    "        try:\n",
    "            main_branch[each] = max([i for i in branching_factor.values()]) \n",
    "        except:\n",
    "            main_branch[each] = 0\n",
    "    else:\n",
    "        try:\n",
    "            sec_branch[each] = max([i for i in branching_factor.values()]) \n",
    "        except:\n",
    "            sec_branch[each] = 0"
   ]
  },
  {
   "cell_type": "code",
   "execution_count": 104,
   "metadata": {},
   "outputs": [],
   "source": [
    "#Profundidade das folhas\n",
    "graph_depths = dict()\n",
    "for each in opp_adjacency:\n",
    "    graph_depths[each] = dict()\n",
    "    for item in opp_adjacency[each]:\n",
    "        if(len(opp_adjacency[each][item]) == 0):\n",
    "            graph_depths[each][item] = depth(each,item)"
   ]
  },
  {
   "cell_type": "markdown",
   "metadata": {},
   "source": [
    "- Distribuição de altura de um exemplo das árvores primárias:"
   ]
  },
  {
   "cell_type": "code",
   "execution_count": 111,
   "metadata": {},
   "outputs": [
    {
     "data": {
      "image/png": "[encoded data removed]",
      "text/plain": [
       "<Figure size 432x288 with 1 Axes>"
      ]
     },
     "metadata": {
      "needs_background": "light"
     },
     "output_type": "display_data"
    }
   ],
   "source": [
    "sub_trees(main_sub['dados\\\\replies_238717783007977473.json'])"
   ]
  },
  {
   "cell_type": "markdown",
   "metadata": {},
   "source": [
    "- Distribuição de altura de um exemplo das árvores secundárias:"
   ]
  },
  {
   "cell_type": "code",
   "execution_count": 112,
   "metadata": {},
   "outputs": [
    {
     "data": {
      "image/png": "[encoded data removed]",
      "text/plain": [
       "<Figure size 432x288 with 1 Axes>"
      ]
     },
     "metadata": {
      "needs_background": "light"
     },
     "output_type": "display_data"
    }
   ],
   "source": [
    "sub_trees(sec_sub['dados\\\\replies_238717783007977473_1032709192002486272.json'])"
   ]
  },
  {
   "cell_type": "code",
   "execution_count": 68,
   "metadata": {},
   "outputs": [],
   "source": [
    "np_mbranch = np.array(tuple(main_branch.values()))\n",
    "np_sbranch = np.array(tuple(sec_branch.values()))"
   ]
  },
  {
   "cell_type": "code",
   "execution_count": 69,
   "metadata": {},
   "outputs": [],
   "source": [
    "ecdf_mbranch = ECDF(np_mbranch)\n",
    "ecdf_sbranch = ECDF(np_sbranch)"
   ]
  },
  {
   "cell_type": "code",
   "execution_count": 70,
   "metadata": {},
   "outputs": [
    {
     "data": {
      "image/png": "[encoded data removed]",
      "text/plain": [
       "<Figure size 432x288 with 1 Axes>"
      ]
     },
     "metadata": {
      "needs_background": "light"
     },
     "output_type": "display_data"
    }
   ],
   "source": [
    "_= plt.plot(ecdf_mbranch.x, ecdf_mbranch.y, label=\"Árvores principais\")\n",
    "_= plt.plot(ecdf_sbranch.x, ecdf_sbranch.y, label=\"Árvores secundárias\")\n",
    "_= plt.legend(bbox_to_anchor=(1.05, 1), loc=2, borderaxespad=0.)\n",
    "_= plt.xlabel(\"Fatores de ramificação\")\n",
    "_= plt.ylabel(\"Probabilidade cumulativa\")"
   ]
  },
  {
   "cell_type": "markdown",
   "metadata": {},
   "source": [
    "- Distribuição dos tempos de resposta:"
   ]
  },
  {
   "cell_type": "code",
   "execution_count": 8,
   "metadata": {},
   "outputs": [],
   "source": [
    "#se aumentar a base de dados, rodar o arquivo  response_time.py antes\n",
    "arr = []\n",
    "for each in graphs:\n",
    "    for item in graphs[each]:\n",
    "        arr.append(graphs[each].nodes[item]['response_time'])     "
   ]
  },
  {
   "cell_type": "code",
   "execution_count": 9,
   "metadata": {},
   "outputs": [],
   "source": [
    "np_responses = np.array(arr)"
   ]
  },
  {
   "cell_type": "code",
   "execution_count": 10,
   "metadata": {},
   "outputs": [],
   "source": [
    "ecdf_responses = ECDF(np_responses)"
   ]
  },
  {
   "cell_type": "code",
   "execution_count": 14,
   "metadata": {},
   "outputs": [
    {
     "data": {
      "image/png": "[encoded data removed]",
      "text/plain": [
       "<Figure size 432x288 with 1 Axes>"
      ]
     },
     "metadata": {
      "needs_background": "light"
     },
     "output_type": "display_data"
    }
   ],
   "source": [
    "_= plt.plot(ecdf_responses.x, ecdf_responses.y)\n",
    "_= plt.xlabel(\"Tempo entre as interações (s)\")\n",
    "_= plt.ylabel(\"Probabilidade cumulativa\")"
   ]
  },
  {
   "cell_type": "code",
   "execution_count": 13,
   "metadata": {},
   "outputs": [
    {
     "data": {
      "image/png": "[encoded data removed]",
      "text/plain": [
       "<Figure size 432x288 with 1 Axes>"
      ]
     },
     "metadata": {
      "needs_background": "light"
     },
     "output_type": "display_data"
    }
   ],
   "source": [
    "_= plt.plot(ecdf_responses.x, 1 - ecdf_responses.y)\n",
    "_= plt.xlabel(\"Tempo entre as interações (s)\")\n",
    "_= plt.ylabel(\"1 - Probabilidade cumulativa\")\n",
    "plt.xscale('log')\n",
    "plt.yscale('log')"
   ]
  },
  {
   "cell_type": "markdown",
   "metadata": {},
   "source": [
    "- Distribuição do número de usuários diferentes em cada árvore:"
   ]
  },
  {
   "cell_type": "code",
   "execution_count": 60,
   "metadata": {},
   "outputs": [],
   "source": [
    "main_users = dict()\n",
    "sec_users = dict()\n",
    "for each in graphs:\n",
    "    fa = each.split(\"_\")\n",
    "    different_users = dict()\n",
    "    for item in graphs[each]:\n",
    "        try:\n",
    "            different_users[graphs[each].nodes[item]['user_id']] += 1\n",
    "        except:\n",
    "            different_users[graphs[each].nodes[item]['user_id']] = 1\n",
    "        if(len(fa) == 2):\n",
    "            main_users[each] = len(different_users)\n",
    "        else:\n",
    "            sec_users[each] = len(different_users)        "
   ]
  },
  {
   "cell_type": "code",
   "execution_count": 61,
   "metadata": {},
   "outputs": [],
   "source": [
    "np_musers = np.array(tuple(main_users.values()))\n",
    "np_susers = np.array(tuple(sec_users.values()))"
   ]
  },
  {
   "cell_type": "code",
   "execution_count": 62,
   "metadata": {},
   "outputs": [],
   "source": [
    "ecdf_musers = ECDF(np_musers)\n",
    "ecdf_susers = ECDF(np_susers)"
   ]
  },
  {
   "cell_type": "code",
   "execution_count": 58,
   "metadata": {},
   "outputs": [
    {
     "data": {
      "image/png": "[encoded data removed]",
      "text/plain": [
       "<Figure size 432x288 with 1 Axes>"
      ]
     },
     "metadata": {
      "needs_background": "light"
     },
     "output_type": "display_data"
    }
   ],
   "source": [
    "_= plt.plot(ecdf_musers.x, ecdf_musers.y, label=\"Árvores principais\")\n",
    "_= plt.plot(ecdf_susers.x, ecdf_susers.y, label=\"Árvores secundárias\")\n",
    "_= plt.legend(bbox_to_anchor=(1.05, 1), loc=2, borderaxespad=0.)\n",
    "_= plt.xlabel(\"Número de usuários diferentes\")\n",
    "_= plt.ylabel(\"Probabilidade cumulativa\")"
   ]
  }
 ],
 "metadata": {
  "kernelspec": {
   "display_name": "Python 3",
   "language": "python",
   "name": "python3"
  },
  "language_info": {
   "codemirror_mode": {
    "name": "ipython",
    "version": 3
   },
   "file_extension": ".py",
   "mimetype": "text/x-python",
   "name": "python",
   "nbconvert_exporter": "python",
   "pygments_lexer": "ipython3",
   "version": "3.7.3"
  }
 },
 "nbformat": 4,
 "nbformat_minor": 2
}
