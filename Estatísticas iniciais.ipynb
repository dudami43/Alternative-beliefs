{
 "cells": [
  {
   "cell_type": "code",
   "execution_count": 25,
   "metadata": {},
   "outputs": [],
   "source": [
    "from scipy import stats\n",
    "from scipy.stats import norm\n",
    "from statsmodels.distributions.empirical_distribution import ECDF\n",
    "import numpy as np\n",
    "import pandas as pd\n",
    "import seaborn as sns\n",
    "import matplotlib.pyplot as plt\n",
    "import glob\n",
    "import json"
   ]
  },
  {
   "cell_type": "code",
   "execution_count": 26,
   "metadata": {},
   "outputs": [],
   "source": [
    "files = glob.glob(\"dados/*.json\")"
   ]
  },
  {
   "cell_type": "markdown",
   "metadata": {},
   "source": [
    "- Número total de Tweets"
   ]
  },
  {
   "cell_type": "code",
   "execution_count": 52,
   "metadata": {},
   "outputs": [
    {
     "data": {
      "text/plain": [
       "48413"
      ]
     },
     "execution_count": 52,
     "metadata": {},
     "output_type": "execute_result"
    }
   ],
   "source": [
    "size = 0\n",
    "for each in files:\n",
    "    with open(each, 'r', encoding=\"utf8\") as f:\n",
    "        data = json.load(f)\n",
    "        size += len(data)\n",
    "size"
   ]
  },
  {
   "cell_type": "markdown",
   "metadata": {},
   "source": [
    "- Distribuição do tamanho das florestas. Cada Tweet gera uma floresta.\n",
    "Gerar o gráfico da CDF dos tamanhos das florestas de cada Tweet;"
   ]
  },
  {
   "cell_type": "code",
   "execution_count": 28,
   "metadata": {},
   "outputs": [],
   "source": [
    "size_forests = dict()\n",
    "for filename in files:\n",
    "    fa = filename.split(\"_\")\n",
    "    fa = fa[1].split(\".\")\n",
    "    with open(filename, 'r', encoding=\"utf8\") as f:\n",
    "        try:\n",
    "            size_forests[fa[0]] += len(json.load(f))\n",
    "        except:\n",
    "            size_forests[fa[0]] = len(json.load(f))"
   ]
  },
  {
   "cell_type": "code",
   "execution_count": 29,
   "metadata": {},
   "outputs": [],
   "source": [
    "np_forests = np.array(tuple(size_forests.values()))"
   ]
  },
  {
   "cell_type": "code",
   "execution_count": 30,
   "metadata": {},
   "outputs": [],
   "source": [
    "ecdf = ECDF(np_forests)"
   ]
  },
  {
   "cell_type": "code",
   "execution_count": 57,
   "metadata": {},
   "outputs": [
    {
     "data": {
      "image/png": "[encoded data removed]",
      "text/plain": [
       "<Figure size 432x288 with 1 Axes>"
      ]
     },
     "metadata": {
      "needs_background": "light"
     },
     "output_type": "display_data"
    }
   ],
   "source": [
    "_= plt.plot(ecdf.x, ecdf.y)\n",
    "_= plt.xlabel(\"Tamanho das florestas\")\n",
    "_= plt.ylabel(\"Probabilidade cumulativa\")"
   ]
  },
  {
   "cell_type": "markdown",
   "metadata": {},
   "source": [
    "- Para cada árvore principal (respostas e replies diretas ao Tweet),\n",
    "gerar a distribuição do tamanho, altura e \"largura\" (pensar em formas\n",
    "de descrever as árvores com números.)"
   ]
  },
  {
   "cell_type": "markdown",
   "metadata": {},
   "source": [
    "- Para cada árvore secundária (arvores das citações) fazer o mesmo do\n",
    "item acima."
   ]
  },
  {
   "cell_type": "markdown",
   "metadata": {},
   "source": [
    "- Para cada interação com um tweet, calcular o tempo entre a interação\n",
    "e o pai imediatamente acima (resposta e tweet respondido). Fazer uma\n",
    "distribuição desses valores de tempos de resposta."
   ]
  },
  {
   "cell_type": "code",
   "execution_count": 32,
   "metadata": {},
   "outputs": [],
   "source": [
    "#se aumentar a base de dados, rodar o arquivo  response_time.py antes\n",
    "arr = []\n",
    "for filename in files:\n",
    "    with open(filename, 'r', encoding=\"utf8\") as f:    \n",
    "        data = json.load(f)\n",
    "        for item in data:\n",
    "            arr.append(data[item]['response_time'])     "
   ]
  },
  {
   "cell_type": "code",
   "execution_count": 33,
   "metadata": {},
   "outputs": [],
   "source": [
    "np_responses = np.array(arr)"
   ]
  },
  {
   "cell_type": "code",
   "execution_count": 34,
   "metadata": {},
   "outputs": [],
   "source": [
    "ecdf_responses = ECDF(np_responses)"
   ]
  },
  {
   "cell_type": "code",
   "execution_count": 59,
   "metadata": {},
   "outputs": [
    {
     "data": {
      "image/png": "[encoded data removed]",
      "text/plain": [
       "<Figure size 432x288 with 1 Axes>"
      ]
     },
     "metadata": {
      "needs_background": "light"
     },
     "output_type": "display_data"
    }
   ],
   "source": [
    "_= plt.plot(ecdf_responses.x, ecdf_responses.y)\n",
    "_= plt.xlabel(\"Tempo entre as interações\")\n",
    "_= plt.ylabel(\"Probabilidade cumulativa\")"
   ]
  },
  {
   "cell_type": "markdown",
   "metadata": {},
   "source": [
    "- Número de usuários diferentes em cada árvore (fazer para a árvore\n",
    "principal e para as secundárias)."
   ]
  },
  {
   "cell_type": "code",
   "execution_count": 39,
   "metadata": {},
   "outputs": [],
   "source": [
    "main_users = dict()\n",
    "sec_users = dict()\n",
    "for filename in files:\n",
    "    fa = filename.split(\"_\")\n",
    "    different_users = dict()\n",
    "    with open(filename, 'r', encoding=\"utf8\") as f:   \n",
    "        data = json.load(f)\n",
    "        for item in data:\n",
    "            try:\n",
    "                different_users[data[item]['user_id']] += 1\n",
    "            except:\n",
    "                different_users[data[item]['user_id']] = 1\n",
    "            if(len(fa) == 2):\n",
    "                main_users[filename] = len(different_users)\n",
    "            else:\n",
    "                sec_users[filename] = len(different_users)        "
   ]
  },
  {
   "cell_type": "code",
   "execution_count": 43,
   "metadata": {},
   "outputs": [],
   "source": [
    "np_musers = np.array(tuple(main_users.values()))\n",
    "np_susers = np.array(tuple(sec_users.values()))"
   ]
  },
  {
   "cell_type": "code",
   "execution_count": 45,
   "metadata": {},
   "outputs": [],
   "source": [
    "ecdf_musers = ECDF(np_musers)\n",
    "ecdf_susers = ECDF(np_susers)"
   ]
  },
  {
   "cell_type": "code",
   "execution_count": 58,
   "metadata": {},
   "outputs": [
    {
     "data": {
      "image/png": "[encoded data removed]",
      "text/plain": [
       "<Figure size 432x288 with 1 Axes>"
      ]
     },
     "metadata": {
      "needs_background": "light"
     },
     "output_type": "display_data"
    }
   ],
   "source": [
    "_= plt.plot(ecdf_musers.x, ecdf_musers.y, label=\"Árvores principais\")\n",
    "_= plt.plot(ecdf_susers.x, ecdf_susers.y, label=\"Árvores secundárias\")\n",
    "_= plt.legend(bbox_to_anchor=(1.05, 1), loc=2, borderaxespad=0.)\n",
    "_= plt.xlabel(\"Número de usuários diferentes\")\n",
    "_= plt.ylabel(\"Probabilidade cumulativa\")"
   ]
  }
 ],
 "metadata": {
  "kernelspec": {
   "display_name": "Python 3",
   "language": "python",
   "name": "python3"
  },
  "language_info": {
   "codemirror_mode": {
    "name": "ipython",
    "version": 3
   },
   "file_extension": ".py",
   "mimetype": "text/x-python",
   "name": "python",
   "nbconvert_exporter": "python",
   "pygments_lexer": "ipython3",
   "version": "3.7.3"
  }
 },
 "nbformat": 4,
 "nbformat_minor": 2
}
